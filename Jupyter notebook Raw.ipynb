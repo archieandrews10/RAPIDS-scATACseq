{
 "cells": [
  {
   "cell_type": "markdown",
   "metadata": {},
   "source": [
    "# Single-cell ATACseq Tutorial\n",
    "\n",
    "## Background\n",
    "This tutorial demonstrates the principle behind the analysis of spatially resolvable single-cell ATACseq data. The transposase-accessible chromatin using sequencing (ATAC-Seq) assay has been widely adopted since its development by Jason Buenrostro and colleagues in the Greenleaf lab in 2013, and it’s now one of the most popular approaches to investigate chromatin openness and its dynamics.\n",
    "\n",
    "ATAC-Seq is used to identify regions of the genome that have open chromatin states that are generally associated with sites undergoing active transcription. Transcription factor binding sites and positions of nucleosomes can also be identified from the analysis of ATAC-Seq data, potentially allowing important genetic pathways in the samples to be elucidated.\n",
    "\n",
    "<img src=\"https://ars.els-cdn.com/content/image/1-s2.0-S2001037020303019-ga1_lrg.jpg\" alt=\"Drawing\" style=\"width:1000px;\"/>\n",
    "\n",
    "## Overview and Purpose\n",
    "The dataset we use here comes from Lareau et al., Nat Biotech 2019, one of the highest throughput single-cell ATAC-seq experiments to date. They assay 136K resting and stimulated bone marrow-derived cells and study the different cell types and lineages that emerge. The paper analyzes resting & stimulated cells separately (and we also find that these two populations split into largely distinct clusters), so here we only focus on the 60K resting cells from this experiment.\n",
    "\n",
    "The cell metadata from this experiment includes annotated putative cell types based on chromVAR, Louvain clustering, and downstream cluster analysis. We compare our de novo identified clusters to these annotated clusters from the paper (and find good agreement).\n",
    "\n",
    "The peak-cell matrix along with peak and cell metadata files are publicly available on GEO, GSE123580.\n",
    "\n",
    "<img src=\"https://media.springernature.com/full/springer-static/image/art%3A10.1038%2Fs41467-021-21583-9/MediaObjects/41467_2021_21583_Fig1_HTML.png?as=webp\" alt=\"Drawing\" style=\"width:1000px;\"/>\n",
    "\n",
    "## Standard single-cell ATACseq workflow\n",
    "The steps below encompass the standard pre-processing workflow. These represent the selection and filtration of cells based on QC metrics, data normalization and scaling, and the detection of highly variable features.\n",
    "\n",
    "This tutorial will cover the following tasks.\n",
    "- QC and selecting cells\n",
    "- Normalization\n",
    "- Identifying highly variable features\n",
    "- Scaling the data\n",
    "- Linear Dimensional reduction \n",
    "- Determining Dimensionality\n",
    "- Clustering\n",
    "- Assigning cell type identity to clusters\n",
    "- Detecting spatially variable features\n",
    "- Interactive visualization\n",
    "- Integration with single-cell RNA-seq data"
   ]
  },
  {
   "cell_type": "code",
   "execution_count": null,
   "metadata": {},
   "outputs": [],
   "source": [
    "from IPython.display import HTML\n",
    "\n",
    "# Youtube\n",
    "HTML('<iframe width=\"560\" height=\"315\" src=\"https://www.youtube.com/embed/uuxpyhGNDsk?controls=0\" frameborder=\"0\" allowfullscreen></iframe>')"
   ]
  },
  {
   "cell_type": "markdown",
   "metadata": {},
   "source": [
    "# Take a quiz"
   ]
  },
  {
   "cell_type": "code",
   "execution_count": null,
   "metadata": {},
   "outputs": [],
   "source": [
    "!pip install jupyterquiz\n",
    "import jupyterquiz\n",
    "from jupyterquiz import display_quiz\n",
    "display_quiz(\"/home/jupyter/tutorials/duplicateQuiz.json\")"
   ]
  },
  {
   "cell_type": "markdown",
   "metadata": {},
   "source": [
    "<div class=\"alert-info\" style=\"font-size:200%\">\n",
    "STEP 1: Setting up environment\n",
    "</div>"
   ]
  },
  {
   "cell_type": "code",
   "execution_count": null,
   "metadata": {},
   "outputs": [],
   "source": [
    "!pip install ipywidgets"
   ]
  },
  {
   "cell_type": "markdown",
   "metadata": {},
   "source": [
    "<div class=\"alert-info\" style=\"font-size:200%\">\n",
    "STEP 1a: Run the following commands in TERMINAL\n",
    "</div>"
   ]
  },
  {
   "cell_type": "markdown",
   "metadata": {},
   "source": [
    "# The following commands (1b to 1f) should be performed in Terminal\n",
    "To access terminal, follow this path File > New > Terminal\n",
    "Then do Step 1b to 1f in Terminal\n",
    "Do step 1g in Jupyter notebook"
   ]
  },
  {
   "cell_type": "markdown",
   "metadata": {},
   "source": [
    "# Step 1b Create conda environment in terminal for rapids, then activate it \n",
    "conda create -n rapidsai\n",
    "conda activate rapidsai"
   ]
  },
  {
   "cell_type": "markdown",
   "metadata": {},
   "source": [
    "# Step 1c install rapids\n",
    "conda install -c rapidsai -c nvidia -c conda-forge python=3.7 cudatoolkit=11.2 rapids=21.12 llvmlite gcsfs openssl dask-sql\n",
    "## install scanpy wget\n",
    "pip install scanpy wget"
   ]
  },
  {
   "cell_type": "markdown",
   "metadata": {},
   "source": [
    "# Step 1d add rapidsai environ\n",
    "python -m ipykernel install --user --name=rapidsai\n",
    "jupyter kernelspec list"
   ]
  },
  {
   "cell_type": "markdown",
   "metadata": {},
   "source": [
    "## After completing step 1d in terminal, revert to Jupyter notebook to continue with the below tasks"
   ]
  },
  {
   "cell_type": "markdown",
   "metadata": {},
   "source": [
    "# Step 1e download required files"
   ]
  },
  {
   "cell_type": "code",
   "execution_count": null,
   "metadata": {},
   "outputs": [],
   "source": [
    "wget https://raw.githubusercontent.com/NVIDIA-Genomics-Research/rapids-single-cell-examples/master/notebooks/utils.py"
   ]
  },
  {
   "cell_type": "code",
   "execution_count": null,
   "metadata": {},
   "outputs": [],
   "source": [
    "wget https://raw.githubusercontent.com/NVIDIA-Genomics-Research/rapids-single-cell-examples/master/notebooks/rapids_scanpy_funcs.py"
   ]
  },
  {
   "cell_type": "code",
   "execution_count": null,
   "metadata": {},
   "outputs": [],
   "source": [
    "wget https://raw.githubusercontent.com/NVIDIA-Genomics-Research/rapids-single-cell-examples/master/notebooks/dsci_bmmc_60k_gpu.ipynb"
   ]
  },
  {
   "cell_type": "markdown",
   "metadata": {},
   "source": [
    "# Step 1g open notebook and change kernel in jupyter notebook to use rapidsai envs\n",
    "# jupyter menu: goto > kernel > change kernel > rapidsai"
   ]
  },
  {
   "cell_type": "markdown",
   "metadata": {},
   "source": [
    "# Import Sample Files\n",
    "Now lets create some folders to stay organized and copy over our prepared raw files. We're going to create a directory called \"Tutorial1\" which we'll use for this module. We'll then create subfolders for our InputFiles and for the files that we'll be creating during this module."
   ]
  },
  {
   "cell_type": "markdown",
   "metadata": {},
   "source": [
    "The following files will be downloaded when you execute the below command\n",
    "- processed peak-cell count matrix for this dataset (.h5ad)\n",
    "- set of nonzero peak names (.npy)\n",
    "- cell metadata (.csv)\n",
    "are stored inside the data folder"
   ]
  },
  {
   "cell_type": "code",
   "execution_count": null,
   "metadata": {},
   "outputs": [],
   "source": [
    "#These commands create our directory structure.\n",
    "!cd $HOMEDIR\n",
    "!mkdir -p Tutorial2\n",
    "!mkdir -p Tutorial2/InputFiles\n",
    "!echo $PWD\n",
    "\n",
    "#These commands help identify the google cloud storage bucket where the example files are held.\n",
    "project_id = \"nosi-unmc-seq\"\n",
    "original_bucket = \"gs://unmc_singlecell_atac_data_examples\"\n",
    "#This command copies our example files to the Tutorial1/Inputfiles folder that we created above.\n",
    "! gsutil cp $original_bucket/Tutorial1/dsci_resting_cell_metadata.csv Tutorial2/InputFiles\n",
    "! gsutil cp $original_bucket/Tutorial1/dsci_resting_nonzeropeaks.h5ad Tutorial2/InputFiles\n",
    "! gsutil cp $original_bucket/Tutorial1/dsci_resting_peaknames_nonzero.npy Tutorial2/InputFiles"
   ]
  },
  {
   "cell_type": "markdown",
   "metadata": {},
   "source": [
    "# Let's make sure that the files copied correctly. \n",
    "# You should see 3 files after running the following command:"
   ]
  },
  {
   "cell_type": "code",
   "execution_count": null,
   "metadata": {},
   "outputs": [],
   "source": [
    "!ls Tutorial2/InputFiles"
   ]
  },
  {
   "cell_type": "markdown",
   "metadata": {},
   "source": [
    "# Installing required packages"
   ]
  },
  {
   "cell_type": "code",
   "execution_count": null,
   "metadata": {},
   "outputs": [],
   "source": [
    "%pip install numpy\n",
    "%pip install scanpy\n",
    "%pip install anndata\n",
    "%pip install matplotlib\n",
    "%pip install utils\n",
    "%pip install rapids"
   ]
  },
  {
   "cell_type": "markdown",
   "metadata": {},
   "source": [
    "# *Restart Kernel here*\n",
    "Do the following -> Menu tab > Kernel > Restart Kernel"
   ]
  },
  {
   "cell_type": "code",
   "execution_count": null,
   "metadata": {},
   "outputs": [],
   "source": [
    "pip install scanpy wget"
   ]
  },
  {
   "cell_type": "markdown",
   "metadata": {},
   "source": [
    "# *Restart Kernel here again*\n",
    "Do the following -> Menu tab > Kernel > Restart Kernel"
   ]
  },
  {
   "cell_type": "code",
   "execution_count": null,
   "metadata": {},
   "outputs": [],
   "source": [
    "import numpy as np\n",
    "import scanpy as sc\n",
    "import anndata\n",
    "import matplotlib.pyplot as plt\n",
    "from collections import OrderedDict\n",
    "\n",
    "import time\n",
    "import os, wget\n",
    "\n",
    "import cudf\n",
    "import cupy as cp\n",
    "\n",
    "from cuml.decomposition import PCA\n",
    "from cuml.manifold import TSNE\n",
    "\n",
    "import rapids_scanpy_funcs\n",
    "import utils\n",
    "\n",
    "import warnings\n",
    "warnings.filterwarnings('ignore', 'Expected ')\n",
    "warnings.simplefilter('ignore')"
   ]
  },
  {
   "cell_type": "markdown",
   "metadata": {},
   "source": [
    "# Replace and download supporting files"
   ]
  },
  {
   "cell_type": "code",
   "execution_count": null,
   "metadata": {},
   "outputs": [],
   "source": [
    "!rm utils.py\n",
    "!rm rapids_scanpy_funcs.py\n",
    "!wget https://raw.githubusercontent.com/NVIDIA-Genomics-Research/rapids-single-cell-examples/master/notebooks/utils.py\n",
    "!wget https://raw.githubusercontent.com/NVIDIA-Genomics-Research/rapids-single-cell-examples/master/notebooks/rapids_scanpy_funcs.py"
   ]
  },
  {
   "cell_type": "code",
   "execution_count": 13,
   "metadata": {},
   "outputs": [],
   "source": [
    "import rmm\n",
    "\n",
    "rmm.reinitialize(\n",
    "    managed_memory=True, # Allows oversubscription\n",
    "    devices=0, # GPU device IDs to register. By default registers only GPU 0.\n",
    ")\n",
    "\n",
    "cp.cuda.set_allocator(rmm.rmm_cupy_allocator)"
   ]
  },
  {
   "cell_type": "markdown",
   "metadata": {},
   "source": [
    "<div class=\"alert-info\" style=\"font-size:200%\">\n",
    "STEP 2: Setting up parameters\n",
    "</div>"
   ]
  },
  {
   "cell_type": "code",
   "execution_count": 72,
   "metadata": {},
   "outputs": [],
   "source": [
    "# filtering peaks\n",
    "n_top_peaks = 5000 # Number of peaks to retain\n",
    "\n",
    "# PCA\n",
    "n_components = 50 # Number of principal components to compute\n",
    "\n",
    "# t-SNE\n",
    "tsne_n_pcs = 20 # Number of principal components to use for t-SNE\n",
    "\n",
    "# KNN\n",
    "n_neighbors = 10 # Number of nearest neighbors for KNN graph\n",
    "knn_n_pcs = 50 # Number of principal components to use for finding nearest neighbors\n",
    "\n",
    "# UMAP\n",
    "umap_min_dist = 0.4 \n",
    "umap_spread = 1.0\n",
    "\n",
    "# Differential peaks\n",
    "n_diff_peaks = 50 # Number of differential peaks to compute for each cluster\n",
    "\n",
    "# Marker genes\n",
    "# Gene coordinates are in GRCh37, from grch37.ensembl.org\n",
    "markers = ['MS4A1', 'LEF1', 'NKG7', 'TREM1', 'GATA1', 'PAX5']\n",
    "marker_coords = OrderedDict()\n",
    "marker_coords['MS4A1'] = ['chr11', 60223225, 60238233, 'fwd']\n",
    "marker_coords['LEF1'] = ['chr4', 108968701, 109090112, 'rev']\n",
    "marker_coords['NKG7'] = ['chr19', 51874860, 51875969, 'rev']\n",
    "marker_coords['TREM1'] = ['chr6', 41235664, 41254457, 'rev']\n",
    "marker_coords['GATA1'] = ['chrX', 48644962, 48652716, 'fwd']\n",
    "marker_coords['PAX5'] = ['chr9', 36833272, 37034103, 'rev']"
   ]
  },
  {
   "cell_type": "code",
   "execution_count": 73,
   "metadata": {},
   "outputs": [],
   "source": [
    "start_time = time.time()"
   ]
  },
  {
   "cell_type": "code",
   "execution_count": null,
   "metadata": {},
   "outputs": [],
   "source": [
    "%%time\n",
    "input_file = \"../data/dsci_resting_nonzeropeaks.h5ad\"\n",
    "\n",
    "if not os.path.exists(input_file):\n",
    "    print('Downloading import file...')\n",
    "    os.makedirs('../data', exist_ok=True)\n",
    "    wget.download('https://rapids-single-cell-examples.s3.us-east-2.amazonaws.com/dsci_resting_nonzeropeaks.h5ad',\n",
    "                  input_file)\n",
    "\n",
    "adata = anndata.read_h5ad(input_file)\n",
    "adata_raw = adata.copy()\n",
    "print(adata.X.shape)"
   ]
  },
  {
   "cell_type": "code",
   "execution_count": 75,
   "metadata": {},
   "outputs": [],
   "source": [
    "preprocessing_start = time.time()"
   ]
  },
  {
   "cell_type": "markdown",
   "metadata": {},
   "source": [
    "<div class=\"alert-info\" style=\"font-size:200%\">\n",
    "STEP 3: Preprocessing\n",
    "</div>"
   ]
  },
  {
   "cell_type": "code",
   "execution_count": null,
   "metadata": {},
   "outputs": [],
   "source": [
    "%%time\n",
    "\n",
    "lognormalized = utils.logtf_idf(adata.X, pseudocount=10**3)\n",
    "adata.X = lognormalized"
   ]
  },
  {
   "cell_type": "code",
   "execution_count": null,
   "metadata": {},
   "outputs": [],
   "source": [
    "%%time\n",
    "adata = utils.filter_peaks(adata, n_top_peaks)\n",
    "print(adata.X.shape)"
   ]
  },
  {
   "cell_type": "code",
   "execution_count": null,
   "metadata": {},
   "outputs": [],
   "source": [
    "print(\"Preprocessing time: %.2fsec\" % (time.time() - preprocessing_start))"
   ]
  },
  {
   "cell_type": "markdown",
   "metadata": {},
   "source": [
    "<div class=\"alert-info\" style=\"font-size:200%\">\n",
    "STEP 4: Clustering & Visualization\n",
    "</div>"
   ]
  },
  {
   "cell_type": "markdown",
   "metadata": {},
   "source": [
    "## PCA"
   ]
  },
  {
   "cell_type": "code",
   "execution_count": null,
   "metadata": {},
   "outputs": [],
   "source": [
    "%%time\n",
    "adata = anndata.AnnData(X=adata.X.todense(),\n",
    "                        obs=adata.obs,\n",
    "                        var=adata.var)\n",
    "adata.obsm[\"X_pca\"] = PCA(n_components=n_components).fit_transform(adata.X)\n",
    "adata.obsm[\"X_pca\"].shape"
   ]
  },
  {
   "cell_type": "markdown",
   "metadata": {},
   "source": [
    "# UMAP visualization"
   ]
  },
  {
   "cell_type": "code",
   "execution_count": null,
   "metadata": {},
   "outputs": [],
   "source": [
    "%%time\n",
    "sc.pp.neighbors(adata, n_neighbors=n_neighbors, n_pcs=knn_n_pcs, method='rapids')"
   ]
  },
  {
   "cell_type": "code",
   "execution_count": null,
   "metadata": {},
   "outputs": [],
   "source": [
    "%%time\n",
    "sc.tl.umap(adata, min_dist=umap_min_dist, spread=umap_spread, method='rapids')"
   ]
  },
  {
   "cell_type": "markdown",
   "metadata": {},
   "source": [
    "# Graph clustering\n",
    "Below, we show how to use the RAPIDS Louvain clustering or Leiden clustering functions to cluster the data."
   ]
  },
  {
   "cell_type": "code",
   "execution_count": null,
   "metadata": {},
   "outputs": [],
   "source": [
    "%%time\n",
    "sc.tl.louvain(adata, flavor='rapids')"
   ]
  },
  {
   "cell_type": "code",
   "execution_count": null,
   "metadata": {},
   "outputs": [],
   "source": [
    "%%time\n",
    "adata.obs['leiden'] = rapids_scanpy_funcs.leiden(adata)"
   ]
  },
  {
   "cell_type": "markdown",
   "metadata": {},
   "source": [
    "Below, we plot the UMAP visualization of the cells colored by the Louvain clusters. Next, we color the cells using the cell type annotations reported in the source paper. We see that the clusters we discovered match closely with the reported cell types."
   ]
  },
  {
   "cell_type": "code",
   "execution_count": null,
   "metadata": {},
   "outputs": [],
   "source": [
    "%%time\n",
    "\n",
    "fig, axs = plt.subplots(nrows = 1, ncols = 3, figsize = (12, 3), dpi=100)\n",
    "\n",
    "sc.pl.umap(adata, color=['louvain'], ax=axs[0], show=False)\n",
    "sc.pl.umap(adata, color=['leiden'], ax=axs[1], show=False)\n",
    "sc.pl.umap(adata, color=['cell_type'], ax=axs[2], show=False)\n",
    "\n",
    "plt.tight_layout()\n",
    "plt.show()"
   ]
  },
  {
   "cell_type": "markdown",
   "metadata": {},
   "source": [
    "## tSNE visualization"
   ]
  },
  {
   "cell_type": "code",
   "execution_count": null,
   "metadata": {},
   "outputs": [],
   "source": [
    "%%time\n",
    "adata.obsm['X_tsne'] = TSNE().fit_transform(adata.obsm[\"X_pca\"][:, :tsne_n_pcs])"
   ]
  },
  {
   "cell_type": "code",
   "execution_count": null,
   "metadata": {},
   "outputs": [],
   "source": [
    "%%time\n",
    "\n",
    "fig, axs = plt.subplots(nrows = 1, ncols = 3, figsize = (12, 3), dpi=100)\n",
    "\n",
    "sc.pl.tsne(adata, color=['louvain'], ax=axs[0], show=False)\n",
    "sc.pl.tsne(adata, color=['leiden'], ax=axs[1], show=False)\n",
    "sc.pl.tsne(adata, color=['cell_type'], ax=axs[2], show=False)\n",
    "\n",
    "plt.tight_layout()\n",
    "plt.show()"
   ]
  },
  {
   "cell_type": "markdown",
   "metadata": {},
   "source": [
    "## Marker genes"
   ]
  },
  {
   "cell_type": "markdown",
   "metadata": {},
   "source": [
    "We now compute a gene activity score representing the activity of each marker gene in each cell. We use the adata_raw object to compute this score. This allows us to consider all peaks, not just the subset we used for clustering and UMAP."
   ]
  },
  {
   "cell_type": "code",
   "execution_count": null,
   "metadata": {},
   "outputs": [],
   "source": [
    "%%time\n",
    "# find which peaks overlap with each marker gene (+ 5kb upstream)\n",
    "peaks_per_gene = {gene : [] for gene in markers}\n",
    "\n",
    "for (i, peak) in enumerate(adata_raw.var_names):\n",
    "    chrom, coords = peak.strip().split(':')\n",
    "    start, end = [int(c) for c in coords.split('-')]\n",
    "    for gene in markers:\n",
    "        if utils.overlap(marker_coords[gene], [chrom, start, end], 5000, 0):\n",
    "            peaks_per_gene[gene].append((i, peak))\n",
    "\n",
    "for gene in peaks_per_gene:\n",
    "    print(f\"{gene} has {len(peaks_per_gene[gene])} nearby peaks\")"
   ]
  },
  {
   "cell_type": "code",
   "execution_count": null,
   "metadata": {},
   "outputs": [],
   "source": [
    "%%time\n",
    "# Calculate per-cell gene activity scores for each marker gene\n",
    "cell_gene_scores = np.zeros((adata.X.shape[0], len(marker_coords.keys())))\n",
    "for (i, gene) in enumerate(peaks_per_gene.keys()):\n",
    "    indices = [x[0] for x in peaks_per_gene[gene]]\n",
    "    peak_scores = adata_raw.X[:, indices].toarray()\n",
    "    cell_gene_scores[:, i] = np.sum(peak_scores, axis=1) + 1\n",
    "\n",
    "# Store per-cell gene activity scores with adata\n",
    "for (i, gene) in enumerate(markers):\n",
    "    adata.obs[gene] = np.log2(cell_gene_scores[:, i].tolist())\n",
    "    adata.obs.loc[np.isneginf(adata.obs[gene]), gene] = 0"
   ]
  },
  {
   "cell_type": "markdown",
   "metadata": {},
   "source": [
    "We now visualize the UMAP plot colored by activity of marker genes. We observe that the activation of cell-type specific marker genes correlates well with the cell types identified by Louvain clustering."
   ]
  },
  {
   "cell_type": "code",
   "execution_count": null,
   "metadata": {},
   "outputs": [],
   "source": [
    "%%time\n",
    "\n",
    "fig, axs = plt.subplots(nrows=2, ncols=3, figsize = (8, 4), dpi=100)\n",
    "axs = axs.flatten()\n",
    "for (i, gene) in enumerate(markers):\n",
    "    sc.pl.umap(adata, color_map=\"Blues\", color=gene, ax = axs[i], show=False)\n",
    "plt.tight_layout()\n",
    "plt.show()"
   ]
  },
  {
   "cell_type": "markdown",
   "metadata": {},
   "source": [
    "<div class=\"alert-info\" style=\"font-size:200%\">\n",
    "STEP 5: Finding differential peaks\n",
    "</div>"
   ]
  },
  {
   "cell_type": "markdown",
   "metadata": {},
   "source": [
    "## Find Differential peaks\n",
    "We perform an accelerated logistic regression-based differential peak computation using RAPIDS. This function may not give the exact same results as the equivalent Scanpy CPU function."
   ]
  },
  {
   "cell_type": "code",
   "execution_count": null,
   "metadata": {},
   "outputs": [],
   "source": [
    "%%time\n",
    "cluster_labels = cudf.Series.from_categorical(adata.obs[\"louvain\"].cat)\n",
    "var_names = cudf.Series(adata.var_names)\n",
    "dense_gpu_array = cp.sparse.csr_matrix(cp.array(adata.X))\n",
    "\n",
    "scores, names, reference = rapids_scanpy_funcs.rank_genes_groups(\n",
    "    dense_gpu_array,\n",
    "    cluster_labels, \n",
    "    var_names, \n",
    "    penalty='none',\n",
    "    n_genes=n_diff_peaks, groups='all', reference='rest')"
   ]
  },
  {
   "cell_type": "code",
   "execution_count": null,
   "metadata": {},
   "outputs": [],
   "source": [
    "%%time\n",
    "fig, axs = plt.subplots(len(names[0])//3 + 1, 3, figsize=(11,11), dpi=100)\n",
    "axs = axs.flatten()\n",
    "\n",
    "for (i, peak) in enumerate(names[0]):\n",
    "    sc.pl.umap(adata, color=peak, \n",
    "           ax=axs[i], show=False,\n",
    "           vmax=10, vmin=-0.5,\n",
    "           cmap='Blues'\n",
    "          )\n",
    "plt.tight_layout()\n",
    "plt.show()"
   ]
  },
  {
   "cell_type": "code",
   "execution_count": null,
   "metadata": {},
   "outputs": [],
   "source": [
    "print(\"Full time: %.2fsec\" % (time.time() - start_time))"
   ]
  }
 ],
 "metadata": {
  "environment": {
   "name": "rapids-gpu.0-18.m65",
   "type": "gcloud",
   "uri": "gcr.io/deeplearning-platform-release/rapids-gpu.0-18:m65"
  },
  "kernelspec": {
   "display_name": "rapidsai",
   "language": "python",
   "name": "rapidsai"
  },
  "language_info": {
   "codemirror_mode": {
    "name": "ipython",
    "version": 3
   },
   "file_extension": ".py",
   "mimetype": "text/x-python",
   "name": "python",
   "nbconvert_exporter": "python",
   "pygments_lexer": "ipython3",
   "version": "3.7.12"
  }
 },
 "nbformat": 4,
 "nbformat_minor": 4
}
